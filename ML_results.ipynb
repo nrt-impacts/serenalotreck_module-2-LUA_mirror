{
 "cells": [
  {
   "cell_type": "markdown",
   "metadata": {},
   "source": [
    "# Approach 1: RGB only from Oct 7"
   ]
  },
  {
   "cell_type": "code",
   "execution_count": 1,
   "metadata": {},
   "outputs": [],
   "source": [
    "import pandas as pd"
   ]
  },
  {
   "cell_type": "code",
   "execution_count": 2,
   "metadata": {},
   "outputs": [],
   "source": [
    "results = pd.read_csv('RESULTS_reg.txt',sep='\\t')"
   ]
  },
  {
   "cell_type": "code",
   "execution_count": 3,
   "metadata": {},
   "outputs": [
    {
     "data": {
      "text/html": [
       "<div>\n",
       "<style scoped>\n",
       "    .dataframe tbody tr th:only-of-type {\n",
       "        vertical-align: middle;\n",
       "    }\n",
       "\n",
       "    .dataframe tbody tr th {\n",
       "        vertical-align: top;\n",
       "    }\n",
       "\n",
       "    .dataframe thead th {\n",
       "        text-align: right;\n",
       "    }\n",
       "</style>\n",
       "<table border=\"1\" class=\"dataframe\">\n",
       "  <thead>\n",
       "    <tr style=\"text-align: right;\">\n",
       "      <th></th>\n",
       "      <th>DateTime</th>\n",
       "      <th>RunTime</th>\n",
       "      <th>ID</th>\n",
       "      <th>Tag</th>\n",
       "      <th>Y</th>\n",
       "      <th>Alg</th>\n",
       "      <th>NumInstances</th>\n",
       "      <th>FeatureNum</th>\n",
       "      <th>CVfold</th>\n",
       "      <th>CV_rep</th>\n",
       "      <th>...</th>\n",
       "      <th>MSE_test_se</th>\n",
       "      <th>EVS_test</th>\n",
       "      <th>EVS_test_sd</th>\n",
       "      <th>EVS_test_se</th>\n",
       "      <th>r2_test</th>\n",
       "      <th>r2_test_sd</th>\n",
       "      <th>r2_test_se</th>\n",
       "      <th>PCC_test</th>\n",
       "      <th>PCC_test_sd</th>\n",
       "      <th>PCC_test_se</th>\n",
       "    </tr>\n",
       "  </thead>\n",
       "  <tbody>\n",
       "    <tr>\n",
       "      <td>0</td>\n",
       "      <td>2020-03-13 23:08:16</td>\n",
       "      <td>9368.250606</td>\n",
       "      <td>/mnt/home/lotrecks/Classes/module-2-LUA/module...</td>\n",
       "      <td>NaN</td>\n",
       "      <td>Class</td>\n",
       "      <td>RF</td>\n",
       "      <td>1051</td>\n",
       "      <td>21</td>\n",
       "      <td>10</td>\n",
       "      <td>100</td>\n",
       "      <td>...</td>\n",
       "      <td>3448.942961</td>\n",
       "      <td>0.118303</td>\n",
       "      <td>0.004456</td>\n",
       "      <td>0.000446</td>\n",
       "      <td>0.118098</td>\n",
       "      <td>0.00446</td>\n",
       "      <td>0.000446</td>\n",
       "      <td>0.344075</td>\n",
       "      <td>0.006294</td>\n",
       "      <td>0.000629</td>\n",
       "    </tr>\n",
       "  </tbody>\n",
       "</table>\n",
       "<p>1 rows × 34 columns</p>\n",
       "</div>"
      ],
      "text/plain": [
       "              DateTime      RunTime  \\\n",
       "0  2020-03-13 23:08:16  9368.250606   \n",
       "\n",
       "                                                  ID  Tag      Y Alg  \\\n",
       "0  /mnt/home/lotrecks/Classes/module-2-LUA/module...  NaN  Class  RF   \n",
       "\n",
       "   NumInstances  FeatureNum  CVfold  CV_rep  ...  MSE_test_se  EVS_test  \\\n",
       "0          1051          21      10     100  ...  3448.942961  0.118303   \n",
       "\n",
       "   EVS_test_sd  EVS_test_se   r2_test  r2_test_sd  r2_test_se  PCC_test  \\\n",
       "0     0.004456     0.000446  0.118098     0.00446    0.000446  0.344075   \n",
       "\n",
       "   PCC_test_sd  PCC_test_se  \n",
       "0     0.006294     0.000629  \n",
       "\n",
       "[1 rows x 34 columns]"
      ]
     },
     "execution_count": 3,
     "metadata": {},
     "output_type": "execute_result"
    }
   ],
   "source": [
    "results"
   ]
  },
  {
   "cell_type": "code",
   "execution_count": 4,
   "metadata": {
    "scrolled": true
   },
   "outputs": [
    {
     "data": {
      "text/plain": [
       "array(['DateTime', 'RunTime', 'ID', 'Tag', 'Y', 'Alg', 'NumInstances',\n",
       "       'FeatureNum', 'CVfold', 'CV_rep', 'MSE_val', 'MSE_val_sd',\n",
       "       'MSE_val_se', 'EVS_val', 'EVS_val_sd', 'EVS_val_se', 'r2_val',\n",
       "       'r2_val_sd', 'r2_val_se', 'PCC_val', 'PCC_val_sd', 'PCC_val_se',\n",
       "       'MSE_test', 'MSE_test_sd', 'MSE_test_se', 'EVS_test',\n",
       "       'EVS_test_sd', 'EVS_test_se', 'r2_test', 'r2_test_sd',\n",
       "       'r2_test_se', 'PCC_test', 'PCC_test_sd', 'PCC_test_se'],\n",
       "      dtype=object)"
      ]
     },
     "execution_count": 4,
     "metadata": {},
     "output_type": "execute_result"
    }
   ],
   "source": [
    "results.columns.values"
   ]
  },
  {
   "cell_type": "markdown",
   "metadata": {},
   "source": [
    "## Feature Brainstorm"
   ]
  },
  {
   "cell_type": "markdown",
   "metadata": {},
   "source": [
    "1. Use Sept 2 instead of Oct 7 \n",
    "2. Train two models (A) using 9/2 and 7/2, with composite features between the two dates and (B) using every date, no composite features \n",
    "3. Also retry original model with just Sept 2\n",
    "4. Add in Robert's height data "
   ]
  },
  {
   "cell_type": "markdown",
   "metadata": {},
   "source": [
    "Composite features: for each feature type, take the difference between the two dates and make that a new feature"
   ]
  }
 ],
 "metadata": {
  "kernelspec": {
   "display_name": "Python [conda env:pandas]",
   "language": "python",
   "name": "conda-env-pandas-py"
  },
  "language_info": {
   "codemirror_mode": {
    "name": "ipython",
    "version": 3
   },
   "file_extension": ".py",
   "mimetype": "text/x-python",
   "name": "python",
   "nbconvert_exporter": "python",
   "pygments_lexer": "ipython3",
   "version": "3.7.4"
  }
 },
 "nbformat": 4,
 "nbformat_minor": 2
}
